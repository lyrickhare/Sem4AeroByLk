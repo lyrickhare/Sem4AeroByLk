{
 "cells": [
  {
   "cell_type": "code",
   "execution_count": 2,
   "id": "deab4060",
   "metadata": {},
   "outputs": [],
   "source": [
    "p_n=[1.5]"
   ]
  },
  {
   "cell_type": "code",
   "execution_count": 5,
   "id": "aff843c1",
   "metadata": {},
   "outputs": [
    {
     "name": "stdout",
     "output_type": "stream",
     "text": [
      "1.5\n",
      "1.348399724926484\n",
      "1.3673763719912828\n",
      "1.364957015402487\n",
      "1.3652647481134421\n",
      "1.365225594160525\n",
      "1.3652305756734338\n",
      "1.3652299418781833\n",
      "1.3652300225155685\n",
      "1.365230012256122\n",
      "1.3652300135614253\n",
      "1.3652300133953523\n",
      "1.3652300134164816\n",
      "1.3652300134137934\n",
      "1.3652300134141355\n",
      "1.3652300134140918\n",
      "1.3652300134140976\n",
      "1.3652300134140967\n",
      "1.3652300134140969\n",
      "1.3652300134140969\n",
      "1.3652300134140969\n",
      "1.3652300134140969\n",
      "1.3652300134140969\n",
      "1.3652300134140969\n",
      "1.3652300134140969\n",
      "1.3652300134140969\n",
      "1.3652300134140969\n",
      "1.3652300134140969\n",
      "1.3652300134140969\n",
      "1.3652300134140969\n"
     ]
    }
   ],
   "source": [
    "for i in range (30):\n",
    "    a=(10/(4+p_n[i]))**(1/2)\n",
    "    p_n.append(a)\n",
    "    print(p_n[i])"
   ]
  },
  {
   "cell_type": "code",
   "execution_count": null,
   "id": "41ca361e",
   "metadata": {},
   "outputs": [],
   "source": []
  }
 ],
 "metadata": {
  "kernelspec": {
   "display_name": "Python 3 (ipykernel)",
   "language": "python",
   "name": "python3"
  },
  "language_info": {
   "codemirror_mode": {
    "name": "ipython",
    "version": 3
   },
   "file_extension": ".py",
   "mimetype": "text/x-python",
   "name": "python",
   "nbconvert_exporter": "python",
   "pygments_lexer": "ipython3",
   "version": "3.9.7"
  }
 },
 "nbformat": 4,
 "nbformat_minor": 5
}
