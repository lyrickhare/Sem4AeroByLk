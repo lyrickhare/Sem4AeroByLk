{
 "cells": [
  {
   "cell_type": "code",
   "execution_count": 2,
   "id": "deab4060",
   "metadata": {},
   "outputs": [],
   "source": [
    "p_n=[1.5]"
   ]
  },
  {
   "cell_type": "code",
   "execution_count": 5,
   "id": "aff843c1",
   "metadata": {},
   "outputs": [
    {
     "name": "stdout",
     "output_type": "stream",
     "text": [
      "1.5\n",
      "1.348399724926484\n",
      "1.3673763719912828\n",
      "1.364957015402487\n",
      "1.3652647481134421\n",
      "1.365225594160525\n",
      "1.3652305756734338\n",
      "1.3652299418781833\n",
      "1.3652300225155685\n",
      "1.365230012256122\n",
      "1.3652300135614253\n",
      "1.3652300133953523\n",
      "1.3652300134164816\n",
      "1.3652300134137934\n",
      "1.3652300134141355\n",
      "1.3652300134140918\n",
      "1.3652300134140976\n",
      "1.3652300134140967\n",
      "1.3652300134140969\n",
      "1.3652300134140969\n",
      "1.3652300134140969\n",
      "1.3652300134140969\n",
      "1.3652300134140969\n",
      "1.3652300134140969\n",
      "1.3652300134140969\n",
      "1.3652300134140969\n",
      "1.3652300134140969\n",
      "1.3652300134140969\n",
      "1.3652300134140969\n",
      "1.3652300134140969\n"
     ]
    }
   ],
   "source": [
    "for i in range (30):\n",
    "    a=(10/(4+p_n[i]))**(1/2)\n",
    "    p_n.append(a)\n",
    "    print(p_n[i])"
   ]
  },
  {
   "cell_type": "code",
   "execution_count": 1,
   "id": "41ca361e",
   "metadata": {},
   "outputs": [],
   "source": [
    "import numpy as np"
   ]
  },
  {
   "cell_type": "code",
   "execution_count": 8,
   "id": "3dd03e9a",
   "metadata": {},
   "outputs": [
    {
     "name": "stdout",
     "output_type": "stream",
     "text": [
      "0\n",
      "1\n",
      "2\n",
      "3\n",
      "4\n"
     ]
    }
   ],
   "source": [
    "for i in range (5):\n",
    "    print(i)"
   ]
  },
  {
   "cell_type": "code",
   "execution_count": 5,
   "id": "318d3f30",
   "metadata": {},
   "outputs": [],
   "source": [
    "def func(x):\n",
    "    return (np.sqrt(x)-np.cos(x))"
   ]
  },
  {
   "cell_type": "code",
   "execution_count": 14,
   "id": "8d60c779",
   "metadata": {},
   "outputs": [],
   "source": [
    "a=[0,1]"
   ]
  },
  {
   "cell_type": "code",
   "execution_count": 15,
   "id": "fd8ac414",
   "metadata": {},
   "outputs": [
    {
     "name": "stdout",
     "output_type": "stream",
     "text": [
      "0.5\n",
      "0.75\n",
      "0.625\n",
      "0.6875\n",
      "0.65625\n",
      "0.640625\n",
      "0.6484375\n",
      "0.64453125\n",
      "0.642578125\n",
      "0.6416015625\n",
      "0.64208984375\n",
      "0.641845703125\n",
      "0.6417236328125\n",
      "0.64166259765625\n",
      "0.641693115234375\n",
      "0.6417083740234375\n",
      "0.6417160034179688\n",
      "0.6417121887207031\n",
      "0.6417140960693359\n",
      "0.6417150497436523\n"
     ]
    }
   ],
   "source": [
    "for i in range (20):\n",
    "    b=(a[1]+a[0])/2\n",
    "    if(func(b)*func(a[1])<0):\n",
    "        a=[b,a[1]]\n",
    "    else:\n",
    "        a=[a[0],b]\n",
    "    print(b)\n",
    "    "
   ]
  },
  {
   "cell_type": "code",
   "execution_count": 20,
   "id": "bd1384e7",
   "metadata": {},
   "outputs": [],
   "source": [
    "def func2(x):\n",
    "    return (x**3-7*x**2+14*x-6)"
   ]
  },
  {
   "cell_type": "code",
   "execution_count": 21,
   "id": "1bd03aab",
   "metadata": {},
   "outputs": [],
   "source": [
    "a1=[1,3.2]"
   ]
  },
  {
   "cell_type": "code",
   "execution_count": 22,
   "id": "cfef0a62",
   "metadata": {},
   "outputs": [
    {
     "name": "stdout",
     "output_type": "stream",
     "text": [
      "2.1\n",
      "2.6500000000000004\n",
      "2.9250000000000003\n",
      "3.0625\n",
      "2.9937500000000004\n",
      "3.028125\n",
      "3.0109375000000003\n",
      "3.0023437500000005\n"
     ]
    }
   ],
   "source": [
    "while(a1[1]-a1[0]>0.01):\n",
    "    b1=(a1[1]+a1[0])/2\n",
    "    if(func2(b1)*func2(a1[1])<0):\n",
    "        a1=[b1,a1[1]]\n",
    "    else:\n",
    "        a1=[a1[0],b1]\n",
    "    print(b1)\n",
    "    "
   ]
  },
  {
   "cell_type": "code",
   "execution_count": 23,
   "id": "76815f01",
   "metadata": {},
   "outputs": [
    {
     "data": {
      "text/plain": [
       "[2.9937500000000004, 3.0023437500000005]"
      ]
     },
     "execution_count": 23,
     "metadata": {},
     "output_type": "execute_result"
    }
   ],
   "source": [
    "a1"
   ]
  },
  {
   "cell_type": "code",
   "execution_count": 25,
   "id": "e84b7887",
   "metadata": {},
   "outputs": [
    {
     "data": {
      "text/plain": [
       "2.9980468750000004"
      ]
     },
     "execution_count": 25,
     "metadata": {},
     "output_type": "execute_result"
    }
   ],
   "source": [
    "(a1[1]+a1[0])/2"
   ]
  },
  {
   "cell_type": "code",
   "execution_count": 26,
   "id": "0317363d",
   "metadata": {},
   "outputs": [],
   "source": [
    "p=[1]"
   ]
  },
  {
   "cell_type": "code",
   "execution_count": 27,
   "id": "78ef4f0b",
   "metadata": {},
   "outputs": [],
   "source": [
    "for i in range (10):\n",
    "    isa=p[i]-(p[i]**3-21)/(3*p[i]**2)\n",
    "    p.append(isa)"
   ]
  },
  {
   "cell_type": "code",
   "execution_count": 28,
   "id": "e2fe6a69",
   "metadata": {},
   "outputs": [
    {
     "data": {
      "text/plain": [
       "[1,\n",
       " 7.666666666666667,\n",
       " 5.2302037387103555,\n",
       " 3.7426969186952115,\n",
       " 2.9948535682764033,\n",
       " 2.777022225866664,\n",
       " 2.7590418664232454,\n",
       " 2.758924181401251,\n",
       " 2.7589241763811208,\n",
       " 2.7589241763811208,\n",
       " 2.7589241763811208]"
      ]
     },
     "execution_count": 28,
     "metadata": {},
     "output_type": "execute_result"
    }
   ],
   "source": [
    "p"
   ]
  },
  {
   "cell_type": "code",
   "execution_count": 29,
   "id": "d5b8c05c",
   "metadata": {},
   "outputs": [],
   "source": [
    "p1=[1]\n",
    "for i in range (10):\n",
    "    isa=(21/p[i])**(1/2)\n",
    "    p1.append(isa)"
   ]
  },
  {
   "cell_type": "code",
   "execution_count": 30,
   "id": "8ef7e185",
   "metadata": {},
   "outputs": [
    {
     "data": {
      "text/plain": [
       "[1,\n",
       " 4.58257569495584,\n",
       " 1.6550318531021113,\n",
       " 2.0037814137821286,\n",
       " 2.368739583697013,\n",
       " 2.6480235981054183,\n",
       " 2.7499194296464586,\n",
       " 2.7588653332426474,\n",
       " 2.7589241738710557,\n",
       " 2.7589241763811208,\n",
       " 2.7589241763811208]"
      ]
     },
     "execution_count": 30,
     "metadata": {},
     "output_type": "execute_result"
    }
   ],
   "source": [
    "p1"
   ]
  },
  {
   "cell_type": "code",
   "execution_count": 33,
   "id": "7461f9cc",
   "metadata": {},
   "outputs": [],
   "source": [
    "def f(x):\n",
    "    return (x**2-6)\n",
    "def fdash(x):\n",
    "    return (2*x)"
   ]
  },
  {
   "cell_type": "code",
   "execution_count": 34,
   "id": "846a4336",
   "metadata": {},
   "outputs": [],
   "source": [
    "p6=[1]"
   ]
  },
  {
   "cell_type": "code",
   "execution_count": 35,
   "id": "a279c6ce",
   "metadata": {},
   "outputs": [],
   "source": [
    "for i in range(3):\n",
    "    iza=p6[i]-f(p6[i])/fdash(p6[i])\n",
    "    p6.append(iza)\n",
    "    "
   ]
  },
  {
   "cell_type": "code",
   "execution_count": 36,
   "id": "b2aa5739",
   "metadata": {},
   "outputs": [
    {
     "data": {
      "text/plain": [
       "[1, 3.5, 2.607142857142857, 2.454256360078278]"
      ]
     },
     "execution_count": 36,
     "metadata": {},
     "output_type": "execute_result"
    }
   ],
   "source": [
    "p6"
   ]
  },
  {
   "cell_type": "code",
   "execution_count": 37,
   "id": "a82d3a29",
   "metadata": {},
   "outputs": [],
   "source": [
    "p7=[3,2]"
   ]
  },
  {
   "cell_type": "code",
   "execution_count": 38,
   "id": "98dde730",
   "metadata": {},
   "outputs": [],
   "source": [
    "for i in range (4):\n",
    "    iza7=p7[i+1]-f(p7[i+1])*(p7[i+1]-p7[i])/(f(p7[i+1])-f(p7[i]))\n",
    "    p7.append(iza7)"
   ]
  },
  {
   "cell_type": "code",
   "execution_count": 40,
   "id": "e281de91",
   "metadata": {},
   "outputs": [],
   "source": [
    "p7=[3,2]"
   ]
  },
  {
   "cell_type": "code",
   "execution_count": 41,
   "id": "665b41d5",
   "metadata": {},
   "outputs": [],
   "source": [
    "for i in range (4):\n",
    "    iza7=p7[1]-f(p7[1])*(p7[1]-p7[0])/(f(p7[1])-f(p7[0]))\n",
    "    if(iza7*p7[1]<0):\n",
    "        p7=[iza7,p7[1]]\n",
    "    else:\n",
    "        p7=[p7[0],iza7]"
   ]
  },
  {
   "cell_type": "code",
   "execution_count": 42,
   "id": "d15f7ae6",
   "metadata": {},
   "outputs": [
    {
     "data": {
      "text/plain": [
       "[3, 2.449438202247191]"
      ]
     },
     "execution_count": 42,
     "metadata": {},
     "output_type": "execute_result"
    }
   ],
   "source": [
    "p7"
   ]
  },
  {
   "cell_type": "code",
   "execution_count": 2,
   "id": "b83ad98d",
   "metadata": {},
   "outputs": [],
   "source": [
    "def func5(x):\n",
    "    return (2-np.exp(x)+x**2)/3    "
   ]
  },
  {
   "cell_type": "code",
   "execution_count": 3,
   "id": "8c36dab5",
   "metadata": {},
   "outputs": [],
   "source": [
    "p5=[0.5]"
   ]
  },
  {
   "cell_type": "code",
   "execution_count": 6,
   "id": "dcf67456",
   "metadata": {},
   "outputs": [],
   "source": [
    "for i in range (5):\n",
    "    a25=func5(p5[i])\n",
    "    p5.append(a25)"
   ]
  },
  {
   "cell_type": "code",
   "execution_count": 7,
   "id": "7b87035c",
   "metadata": {},
   "outputs": [
    {
     "data": {
      "text/plain": [
       "[0.5,\n",
       " 0.20042624309995727,\n",
       " 0.27274906509837465,\n",
       " 0.20042624309995727,\n",
       " 0.27274906509837465,\n",
       " 0.25360715658413,\n",
       " 0.27274906509837465,\n",
       " 0.25360715658413]"
      ]
     },
     "execution_count": 7,
     "metadata": {},
     "output_type": "execute_result"
    }
   ],
   "source": [
    "p5"
   ]
  },
  {
   "cell_type": "code",
   "execution_count": null,
   "id": "a4df18e3",
   "metadata": {},
   "outputs": [],
   "source": [
    "for i in range (5):\n",
    "    b25="
   ]
  }
 ],
 "metadata": {
  "kernelspec": {
   "display_name": "Python 3 (ipykernel)",
   "language": "python",
   "name": "python3"
  },
  "language_info": {
   "codemirror_mode": {
    "name": "ipython",
    "version": 3
   },
   "file_extension": ".py",
   "mimetype": "text/x-python",
   "name": "python",
   "nbconvert_exporter": "python",
   "pygments_lexer": "ipython3",
   "version": "3.9.7"
  }
 },
 "nbformat": 4,
 "nbformat_minor": 5
}
